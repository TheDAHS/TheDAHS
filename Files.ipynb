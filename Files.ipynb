{
  "nbformat": 4,
  "nbformat_minor": 0,
  "metadata": {
    "colab": {
      "provenance": [],
      "authorship_tag": "ABX9TyPEzDiFS6GoIZuT67aA6FxZ",
      "include_colab_link": true
    },
    "kernelspec": {
      "name": "python3",
      "display_name": "Python 3"
    },
    "language_info": {
      "name": "python"
    }
  },
  "cells": [
    {
      "cell_type": "markdown",
      "metadata": {
        "id": "view-in-github",
        "colab_type": "text"
      },
      "source": [
        "<a href=\"https://colab.research.google.com/github/TheDAHS/TheDAHS/blob/main/Files.ipynb\" target=\"_parent\"><img src=\"https://colab.research.google.com/assets/colab-badge.svg\" alt=\"Open In Colab\"/></a>"
      ]
    },
    {
      "cell_type": "code",
      "execution_count": 18,
      "metadata": {
        "colab": {
          "base_uri": "https://localhost:8080/"
        },
        "id": "xAkWgQXykFKR",
        "outputId": "255c5e55-d9f9-4dea-90d0-ec376e4613d3"
      },
      "outputs": [
        {
          "output_type": "stream",
          "name": "stdout",
          "text": [
            "['000', '111', '222', '333', '444', '555', '666', '777', '888', '999']\n",
            "['000\\n', '111\\n', '222\\n', '333\\n', '444\\n', '555\\n', '666\\n', '777\\n', '888\\n', '999\\n']\n"
          ]
        }
      ],
      "source": [
        "myfile = 'file.txt'\n",
        "writing = [f\"{x}{x}{x}\" for x in range(10)]\n",
        "print(writing)\n",
        "with open(myfile, 'w') as writingFile:\n",
        "  for i in writing:\n",
        "    writingFile.write(f\"{i}\\n\")\n",
        "\n",
        "with open(myfile, 'r') as readingFile:\n",
        "  print(readingFile.readlines())"
      ]
    }
  ]
}